{
 "cells": [
  {
   "cell_type": "markdown",
   "metadata": {},
   "source": [
    "# Neural Networks for Dengue Prediction - Example\n",
    "\n",
    "This notebook accompanies a review of neural networks for Dengue prediction. It showcases a sample implementation of a neural network model to predict Dengue Fever.\n",
    "\n",
    "We have data on the weekly number of Dengue cases in Brazilian cities and we will forecast the number of cases we can expect the following week."
   ]
  },
  {
   "cell_type": "code",
   "execution_count": 1,
   "metadata": {},
   "outputs": [],
   "source": [
    "import numpy as np\n",
    "import pandas as pd\n",
    "from scipy.stats import randint, uniform, expon\n",
    "\n",
    "# plotting\n",
    "import matplotlib.pyplot as plt\n",
    "import seaborn as sns\n",
    "\n",
    "# neural network\n",
    "from sklearn.neural_network import MLPRegressor\n",
    "from sklearn.model_selection import RandomizedSearchCV, TimeSeriesSplit, GridSearchCV\n",
    "\n",
    "# evaluation\n",
    "from sklearn.metrics import mean_absolute_error, mean_squared_error\n",
    "\n",
    "\n"
   ]
  },
  {
   "cell_type": "code",
   "execution_count": 2,
   "metadata": {},
   "outputs": [],
   "source": [
    "# setting the theme for our plots\n",
    "sns.set_theme(style=\"darkgrid\", palette='Set2', font='monospace')\n",
    "\n",
    "# setting pandas output display limits\n",
    "pd.set_option('display.max_rows', 500, 'display.max_columns', 500)\n",
    "\n"
   ]
  },
  {
   "cell_type": "code",
   "execution_count": 3,
   "metadata": {},
   "outputs": [],
   "source": [
    "# load the data\n",
    "data = pd.read_csv('sinan_Dengue weekly.csv', parse_dates=[4])\n"
   ]
  },
  {
   "cell_type": "code",
   "execution_count": 4,
   "metadata": {},
   "outputs": [
    {
     "data": {
      "text/html": [
       "<div>\n",
       "<style scoped>\n",
       "    .dataframe tbody tr th:only-of-type {\n",
       "        vertical-align: middle;\n",
       "    }\n",
       "\n",
       "    .dataframe tbody tr th {\n",
       "        vertical-align: top;\n",
       "    }\n",
       "\n",
       "    .dataframe thead th {\n",
       "        text-align: right;\n",
       "    }\n",
       "</style>\n",
       "<table border=\"1\" class=\"dataframe\">\n",
       "  <thead>\n",
       "    <tr style=\"text-align: right;\">\n",
       "      <th></th>\n",
       "      <th>year</th>\n",
       "      <th>mun_code</th>\n",
       "      <th>mun_name</th>\n",
       "      <th>cases</th>\n",
       "      <th>date</th>\n",
       "    </tr>\n",
       "  </thead>\n",
       "  <tbody>\n",
       "    <tr>\n",
       "      <th>1595</th>\n",
       "      <td>2014</td>\n",
       "      <td>355030</td>\n",
       "      <td>São Paulo</td>\n",
       "      <td>21.0</td>\n",
       "      <td>2014-01-08</td>\n",
       "    </tr>\n",
       "    <tr>\n",
       "      <th>1944</th>\n",
       "      <td>2014</td>\n",
       "      <td>230440</td>\n",
       "      <td>Fortaleza</td>\n",
       "      <td>30.0</td>\n",
       "      <td>2014-01-08</td>\n",
       "    </tr>\n",
       "    <tr>\n",
       "      <th>3171</th>\n",
       "      <td>2014</td>\n",
       "      <td>310620</td>\n",
       "      <td>Belo Horizonte</td>\n",
       "      <td>31.0</td>\n",
       "      <td>2014-01-08</td>\n",
       "    </tr>\n",
       "    <tr>\n",
       "      <th>4591</th>\n",
       "      <td>2014</td>\n",
       "      <td>310620</td>\n",
       "      <td>Belo Horizonte</td>\n",
       "      <td>61.0</td>\n",
       "      <td>2014-01-15</td>\n",
       "    </tr>\n",
       "    <tr>\n",
       "      <th>5618</th>\n",
       "      <td>2014</td>\n",
       "      <td>230440</td>\n",
       "      <td>Fortaleza</td>\n",
       "      <td>24.0</td>\n",
       "      <td>2014-01-15</td>\n",
       "    </tr>\n",
       "  </tbody>\n",
       "</table>\n",
       "</div>"
      ],
      "text/plain": [
       "      year  mun_code        mun_name  cases       date\n",
       "1595  2014    355030       São Paulo   21.0 2014-01-08\n",
       "1944  2014    230440       Fortaleza   30.0 2014-01-08\n",
       "3171  2014    310620  Belo Horizonte   31.0 2014-01-08\n",
       "4591  2014    310620  Belo Horizonte   61.0 2014-01-15\n",
       "5618  2014    230440       Fortaleza   24.0 2014-01-15"
      ]
     },
     "execution_count": 4,
     "metadata": {},
     "output_type": "execute_result"
    }
   ],
   "source": [
    "# let's take a subset of cities (to speed up our learning)\n",
    "data = data[data.mun_code.isin([355030, 310620, 230440])]\n",
    "\n",
    "# let's inspect our data\n",
    "data.iloc[0:5,:]"
   ]
  },
  {
   "cell_type": "markdown",
   "metadata": {},
   "source": [
    "### Data Exploration\n",
    "\n"
   ]
  },
  {
   "cell_type": "code",
   "execution_count": 5,
   "metadata": {
    "scrolled": false
   },
   "outputs": [
    {
     "data": {
      "text/plain": [
       "Text(0.5, 1.0, 'Weekly Dengue Fever Cases')"
      ]
     },
     "execution_count": 5,
     "metadata": {},
     "output_type": "execute_result"
    },
    {
     "data": {
      "image/png": "[encoded data removed]",
      "text/plain": [
       "<Figure size 720x360 with 1 Axes>"
      ]
     },
     "metadata": {},
     "output_type": "display_data"
    }
   ],
   "source": [
    "# plot the time series for some cities\n",
    "plt.figure(figsize=(10,5))\n",
    "sns.lineplot(data = data[data.mun_code.isin([355030, 310620, 230440])], \n",
    "             x='date', y='cases', \n",
    "             hue='mun_name',\n",
    "            linewidth=1.5)\n",
    "plt.title('Weekly Dengue Fever Cases')\n"
   ]
  },
  {
   "cell_type": "markdown",
   "metadata": {},
   "source": [
    "### Data Preparation\n",
    "\n",
    "We split the data into training and test sets. Since we are working with time series, we cannot randomize the split. Instead, we reserve the last five years of data for testing."
   ]
  },
  {
   "cell_type": "code",
   "execution_count": 6,
   "metadata": {},
   "outputs": [],
   "source": [
    "# split data into train and test sets\n",
    "data_train = data[data.date<'2017-01-01']\n",
    "data_test = data[data.date>='2017-01-01'] # reserve last year for hold-out set\n"
   ]
  },
  {
   "cell_type": "code",
   "execution_count": 7,
   "metadata": {},
   "outputs": [],
   "source": [
    "    \n",
    "def generate_ts(data, max_lags):\n",
    "    '''\n",
    "    \n",
    "    '''\n",
    "    # reformat data so that the features are historical Dengue cases\n",
    "    data_ts = data.loc[:,['mun_code','mun_name', 'date', 'cases']].sort_values(by='date')\n",
    "    data_ts.set_index(['mun_code', 'mun_name', 'date'], inplace=True)\n",
    "\n",
    "    use_data = data_ts.copy()\n",
    "    for l in np.arange(1, max_lags):\n",
    "        df = use_data.copy()\n",
    "        df_1 = df.groupby(level=0).shift(l)\n",
    "        df_1.columns = df_1.columns+'_lag'+str(l)\n",
    "        # combine\n",
    "        data_ts = pd.concat([data_ts, df_1], axis=1)\n",
    "    # reset index    \n",
    "    data_ts = data_ts.reset_index()\n",
    "    \n",
    "    return data_ts\n"
   ]
  },
  {
   "cell_type": "code",
   "execution_count": 8,
   "metadata": {},
   "outputs": [],
   "source": [
    "max_lags = 10\n",
    "train_ts = generate_ts(data_train, max_lags)\n",
    "test_ts = generate_ts(data_test, max_lags)\n"
   ]
  },
  {
   "cell_type": "markdown",
   "metadata": {},
   "source": [
    "We now have a dataframe, with the 'current' case count as well as columns for historic values. Each of these rows will count as one observation for our time series forecasting model. \n",
    "\n",
    "As we can see below, first rows of data will contain missing values in the lag columns."
   ]
  },
  {
   "cell_type": "code",
   "execution_count": 9,
   "metadata": {},
   "outputs": [
    {
     "data": {
      "text/html": [
       "<div>\n",
       "<style scoped>\n",
       "    .dataframe tbody tr th:only-of-type {\n",
       "        vertical-align: middle;\n",
       "    }\n",
       "\n",
       "    .dataframe tbody tr th {\n",
       "        vertical-align: top;\n",
       "    }\n",
       "\n",
       "    .dataframe thead th {\n",
       "        text-align: right;\n",
       "    }\n",
       "</style>\n",
       "<table border=\"1\" class=\"dataframe\">\n",
       "  <thead>\n",
       "    <tr style=\"text-align: right;\">\n",
       "      <th></th>\n",
       "      <th>mun_code</th>\n",
       "      <th>mun_name</th>\n",
       "      <th>date</th>\n",
       "      <th>cases</th>\n",
       "      <th>cases_lag1</th>\n",
       "      <th>cases_lag2</th>\n",
       "      <th>cases_lag3</th>\n",
       "      <th>cases_lag4</th>\n",
       "      <th>cases_lag5</th>\n",
       "      <th>cases_lag6</th>\n",
       "      <th>cases_lag7</th>\n",
       "      <th>cases_lag8</th>\n",
       "      <th>cases_lag9</th>\n",
       "    </tr>\n",
       "  </thead>\n",
       "  <tbody>\n",
       "    <tr>\n",
       "      <th>0</th>\n",
       "      <td>355030</td>\n",
       "      <td>São Paulo</td>\n",
       "      <td>2014-01-08</td>\n",
       "      <td>21.0</td>\n",
       "      <td>NaN</td>\n",
       "      <td>NaN</td>\n",
       "      <td>NaN</td>\n",
       "      <td>NaN</td>\n",
       "      <td>NaN</td>\n",
       "      <td>NaN</td>\n",
       "      <td>NaN</td>\n",
       "      <td>NaN</td>\n",
       "      <td>NaN</td>\n",
       "    </tr>\n",
       "    <tr>\n",
       "      <th>5</th>\n",
       "      <td>355030</td>\n",
       "      <td>São Paulo</td>\n",
       "      <td>2014-01-15</td>\n",
       "      <td>35.0</td>\n",
       "      <td>21.0</td>\n",
       "      <td>NaN</td>\n",
       "      <td>NaN</td>\n",
       "      <td>NaN</td>\n",
       "      <td>NaN</td>\n",
       "      <td>NaN</td>\n",
       "      <td>NaN</td>\n",
       "      <td>NaN</td>\n",
       "      <td>NaN</td>\n",
       "    </tr>\n",
       "    <tr>\n",
       "      <th>7</th>\n",
       "      <td>355030</td>\n",
       "      <td>São Paulo</td>\n",
       "      <td>2014-01-22</td>\n",
       "      <td>59.0</td>\n",
       "      <td>35.0</td>\n",
       "      <td>21.0</td>\n",
       "      <td>NaN</td>\n",
       "      <td>NaN</td>\n",
       "      <td>NaN</td>\n",
       "      <td>NaN</td>\n",
       "      <td>NaN</td>\n",
       "      <td>NaN</td>\n",
       "      <td>NaN</td>\n",
       "    </tr>\n",
       "    <tr>\n",
       "      <th>9</th>\n",
       "      <td>355030</td>\n",
       "      <td>São Paulo</td>\n",
       "      <td>2014-01-29</td>\n",
       "      <td>58.0</td>\n",
       "      <td>59.0</td>\n",
       "      <td>35.0</td>\n",
       "      <td>21.0</td>\n",
       "      <td>NaN</td>\n",
       "      <td>NaN</td>\n",
       "      <td>NaN</td>\n",
       "      <td>NaN</td>\n",
       "      <td>NaN</td>\n",
       "      <td>NaN</td>\n",
       "    </tr>\n",
       "    <tr>\n",
       "      <th>14</th>\n",
       "      <td>355030</td>\n",
       "      <td>São Paulo</td>\n",
       "      <td>2014-02-05</td>\n",
       "      <td>100.0</td>\n",
       "      <td>58.0</td>\n",
       "      <td>59.0</td>\n",
       "      <td>35.0</td>\n",
       "      <td>21.0</td>\n",
       "      <td>NaN</td>\n",
       "      <td>NaN</td>\n",
       "      <td>NaN</td>\n",
       "      <td>NaN</td>\n",
       "      <td>NaN</td>\n",
       "    </tr>\n",
       "  </tbody>\n",
       "</table>\n",
       "</div>"
      ],
      "text/plain": [
       "    mun_code   mun_name       date  cases  cases_lag1  cases_lag2  cases_lag3  \\\n",
       "0     355030  São Paulo 2014-01-08   21.0         NaN         NaN         NaN   \n",
       "5     355030  São Paulo 2014-01-15   35.0        21.0         NaN         NaN   \n",
       "7     355030  São Paulo 2014-01-22   59.0        35.0        21.0         NaN   \n",
       "9     355030  São Paulo 2014-01-29   58.0        59.0        35.0        21.0   \n",
       "14    355030  São Paulo 2014-02-05  100.0        58.0        59.0        35.0   \n",
       "\n",
       "    cases_lag4  cases_lag5  cases_lag6  cases_lag7  cases_lag8  cases_lag9  \n",
       "0          NaN         NaN         NaN         NaN         NaN         NaN  \n",
       "5          NaN         NaN         NaN         NaN         NaN         NaN  \n",
       "7          NaN         NaN         NaN         NaN         NaN         NaN  \n",
       "9          NaN         NaN         NaN         NaN         NaN         NaN  \n",
       "14        21.0         NaN         NaN         NaN         NaN         NaN  "
      ]
     },
     "execution_count": 9,
     "metadata": {},
     "output_type": "execute_result"
    }
   ],
   "source": [
    "# inspect\n",
    "train_ts[train_ts.mun_name=='São Paulo'][0:5]"
   ]
  },
  {
   "cell_type": "code",
   "execution_count": 10,
   "metadata": {},
   "outputs": [],
   "source": [
    "# drop the rows with missing values introduced during the shifting\n",
    "train_ts.dropna(axis=0, inplace = True)\n",
    "test_ts.dropna(axis=0, inplace = True)\n"
   ]
  },
  {
   "cell_type": "code",
   "execution_count": 11,
   "metadata": {},
   "outputs": [
    {
     "data": {
      "text/html": [
       "<div>\n",
       "<style scoped>\n",
       "    .dataframe tbody tr th:only-of-type {\n",
       "        vertical-align: middle;\n",
       "    }\n",
       "\n",
       "    .dataframe tbody tr th {\n",
       "        vertical-align: top;\n",
       "    }\n",
       "\n",
       "    .dataframe thead th {\n",
       "        text-align: right;\n",
       "    }\n",
       "</style>\n",
       "<table border=\"1\" class=\"dataframe\">\n",
       "  <thead>\n",
       "    <tr style=\"text-align: right;\">\n",
       "      <th></th>\n",
       "      <th>mun_code</th>\n",
       "      <th>mun_name</th>\n",
       "      <th>date</th>\n",
       "      <th>cases</th>\n",
       "      <th>cases_lag1</th>\n",
       "      <th>cases_lag2</th>\n",
       "      <th>cases_lag3</th>\n",
       "      <th>cases_lag4</th>\n",
       "      <th>cases_lag5</th>\n",
       "      <th>cases_lag6</th>\n",
       "      <th>cases_lag7</th>\n",
       "      <th>cases_lag8</th>\n",
       "      <th>cases_lag9</th>\n",
       "    </tr>\n",
       "  </thead>\n",
       "  <tbody>\n",
       "    <tr>\n",
       "      <th>29</th>\n",
       "      <td>355030</td>\n",
       "      <td>São Paulo</td>\n",
       "      <td>2014-03-12</td>\n",
       "      <td>615.0</td>\n",
       "      <td>379.0</td>\n",
       "      <td>301.0</td>\n",
       "      <td>227.0</td>\n",
       "      <td>101.0</td>\n",
       "      <td>100.0</td>\n",
       "      <td>58.0</td>\n",
       "      <td>59.0</td>\n",
       "      <td>35.0</td>\n",
       "      <td>21.0</td>\n",
       "    </tr>\n",
       "    <tr>\n",
       "      <th>30</th>\n",
       "      <td>355030</td>\n",
       "      <td>São Paulo</td>\n",
       "      <td>2014-03-19</td>\n",
       "      <td>846.0</td>\n",
       "      <td>615.0</td>\n",
       "      <td>379.0</td>\n",
       "      <td>301.0</td>\n",
       "      <td>227.0</td>\n",
       "      <td>101.0</td>\n",
       "      <td>100.0</td>\n",
       "      <td>58.0</td>\n",
       "      <td>59.0</td>\n",
       "      <td>35.0</td>\n",
       "    </tr>\n",
       "    <tr>\n",
       "      <th>35</th>\n",
       "      <td>355030</td>\n",
       "      <td>São Paulo</td>\n",
       "      <td>2014-03-26</td>\n",
       "      <td>1385.0</td>\n",
       "      <td>846.0</td>\n",
       "      <td>615.0</td>\n",
       "      <td>379.0</td>\n",
       "      <td>301.0</td>\n",
       "      <td>227.0</td>\n",
       "      <td>101.0</td>\n",
       "      <td>100.0</td>\n",
       "      <td>58.0</td>\n",
       "      <td>59.0</td>\n",
       "    </tr>\n",
       "    <tr>\n",
       "      <th>36</th>\n",
       "      <td>355030</td>\n",
       "      <td>São Paulo</td>\n",
       "      <td>2014-04-02</td>\n",
       "      <td>2178.0</td>\n",
       "      <td>1385.0</td>\n",
       "      <td>846.0</td>\n",
       "      <td>615.0</td>\n",
       "      <td>379.0</td>\n",
       "      <td>301.0</td>\n",
       "      <td>227.0</td>\n",
       "      <td>101.0</td>\n",
       "      <td>100.0</td>\n",
       "      <td>58.0</td>\n",
       "    </tr>\n",
       "    <tr>\n",
       "      <th>39</th>\n",
       "      <td>355030</td>\n",
       "      <td>São Paulo</td>\n",
       "      <td>2014-04-09</td>\n",
       "      <td>2671.0</td>\n",
       "      <td>2178.0</td>\n",
       "      <td>1385.0</td>\n",
       "      <td>846.0</td>\n",
       "      <td>615.0</td>\n",
       "      <td>379.0</td>\n",
       "      <td>301.0</td>\n",
       "      <td>227.0</td>\n",
       "      <td>101.0</td>\n",
       "      <td>100.0</td>\n",
       "    </tr>\n",
       "  </tbody>\n",
       "</table>\n",
       "</div>"
      ],
      "text/plain": [
       "    mun_code   mun_name       date   cases  cases_lag1  cases_lag2  \\\n",
       "29    355030  São Paulo 2014-03-12   615.0       379.0       301.0   \n",
       "30    355030  São Paulo 2014-03-19   846.0       615.0       379.0   \n",
       "35    355030  São Paulo 2014-03-26  1385.0       846.0       615.0   \n",
       "36    355030  São Paulo 2014-04-02  2178.0      1385.0       846.0   \n",
       "39    355030  São Paulo 2014-04-09  2671.0      2178.0      1385.0   \n",
       "\n",
       "    cases_lag3  cases_lag4  cases_lag5  cases_lag6  cases_lag7  cases_lag8  \\\n",
       "29       227.0       101.0       100.0        58.0        59.0        35.0   \n",
       "30       301.0       227.0       101.0       100.0        58.0        59.0   \n",
       "35       379.0       301.0       227.0       101.0       100.0        58.0   \n",
       "36       615.0       379.0       301.0       227.0       101.0       100.0   \n",
       "39       846.0       615.0       379.0       301.0       227.0       101.0   \n",
       "\n",
       "    cases_lag9  \n",
       "29        21.0  \n",
       "30        35.0  \n",
       "35        59.0  \n",
       "36        58.0  \n",
       "39       100.0  "
      ]
     },
     "execution_count": 11,
     "metadata": {},
     "output_type": "execute_result"
    }
   ],
   "source": [
    "# we can see that the corresponding rows are removed:\n",
    "train_ts[train_ts.mun_name=='São Paulo'][0:5]"
   ]
  },
  {
   "cell_type": "code",
   "execution_count": 12,
   "metadata": {},
   "outputs": [],
   "source": [
    "# normalize data based on training set\n",
    "mean = np.mean(train_ts.iloc[:,3:], axis=0)\n",
    "std = np.std(train_ts.iloc[:,3:], axis=0)\n",
    "\n",
    "train_ts_norm = train_ts.copy()\n",
    "test_ts_norm = test_ts.copy()\n",
    "train_ts_norm.iloc[:,3:] = (train_ts_norm.iloc[:,3:] - mean)/std\n",
    "test_ts_norm.iloc[:,3:] = (test_ts_norm.iloc[:,3:] - mean) / std\n"
   ]
  },
  {
   "cell_type": "code",
   "execution_count": 13,
   "metadata": {},
   "outputs": [],
   "source": [
    "# separate the targets and the features\n",
    "train_y = train_ts_norm.loc[:,'cases']\n",
    "train_x = train_ts_norm.iloc[:,4:]\n",
    "\n",
    "test_y = test_ts_norm.loc[:,'cases']\n",
    "test_x = test_ts_norm.iloc[:,4:]\n"
   ]
  },
  {
   "cell_type": "markdown",
   "metadata": {},
   "source": [
    "### Hyperparameter tuning\n",
    "\n",
    "We will implement a Multilayer Perceptron (MLP) model. There are several hyperparameters that may affect model performance, so we will perform a random search to select the best values for some of them:\n",
    "- number of hidden layers and corresponding units\n",
    "- activation function\n"
   ]
  },
  {
   "cell_type": "code",
   "execution_count": 14,
   "metadata": {
    "scrolled": true
   },
   "outputs": [],
   "source": [
    "# NN model\n",
    "\n",
    "# hyperparameter tuning\n",
    "\n",
    "# time series cross-validation\n",
    "n_splits = 2\n",
    "tscv = TimeSeriesSplit(n_splits=n_splits, max_train_size=None)\n",
    "# set up the regressor\n",
    "mlp_reg = MLPRegressor(max_iter=900, solver='adam', alpha = 0.4)\n",
    "# set up the parameter space\n",
    "parameter_grid = {'hidden_layer_sizes': [(64,64,64,), (64,64,), (64,),\n",
    "                                        (32,32,32,), (32,32,), (32,),\n",
    "                                        (16,32,64,), (16,64,),\n",
    "                                        (64,32,16,), (64,32,),],\n",
    "                  'activation': ['tanh', 'relu', 'logistic']\n",
    "                  }\n",
    "# grid search\n",
    "clf = GridSearchCV(estimator = mlp_reg, cv=tscv, param_grid=parameter_grid)\n",
    "\n",
    "'''\n",
    "# alternatively, we can run a randomized search:\n",
    "parameter_space = {'hidden_layer_sizes': [(randint.rvs(5,100,),randint.rvs(5,100,), randint.rvs(5,100,)), \n",
    "                                          (randint.rvs(5,100,),randint.rvs(5,100,),), \n",
    "                                          (randint.rvs(5,100,),)],\n",
    "                  'activation': ['tanh', 'relu', 'logistic']\n",
    "                  }\n",
    "#clf = RandomizedSearchCV(estimator = mlp_reg, cv=tscv, param_distributions=parameter_space, n_iter=200)\n",
    "'''\n",
    "\n",
    "search_result = clf.fit(train_x, train_y)\n"
   ]
  },
  {
   "cell_type": "code",
   "execution_count": 15,
   "metadata": {},
   "outputs": [
    {
     "data": {
      "text/plain": [
       "{'activation': 'relu', 'hidden_layer_sizes': (32, 32)}"
      ]
     },
     "execution_count": 15,
     "metadata": {},
     "output_type": "execute_result"
    }
   ],
   "source": [
    "# the best parameters:\n",
    "search_result.best_params_"
   ]
  },
  {
   "cell_type": "code",
   "execution_count": 16,
   "metadata": {},
   "outputs": [
    {
     "data": {
      "text/plain": [
       "0.7805328196980996"
      ]
     },
     "execution_count": 16,
     "metadata": {},
     "output_type": "execute_result"
    }
   ],
   "source": [
    "# R-squared of the best model:\n",
    "search_result.best_score_"
   ]
  },
  {
   "cell_type": "markdown",
   "metadata": {},
   "source": [
    "### Train the model using time series CV\n"
   ]
  },
  {
   "cell_type": "code",
   "execution_count": 17,
   "metadata": {},
   "outputs": [],
   "source": [
    "y_pred_train = clf.predict(train_x)"
   ]
  },
  {
   "cell_type": "code",
   "execution_count": 18,
   "metadata": {},
   "outputs": [
    {
     "data": {
      "text/plain": [
       "(474,)"
      ]
     },
     "execution_count": 18,
     "metadata": {},
     "output_type": "execute_result"
    }
   ],
   "source": [
    "y_pred_train.shape\n",
    "train_y.shape\n",
    "data_train.loc[:,'mun_name'].shape\n",
    "data_train.loc[:,'date'].shape"
   ]
  },
  {
   "cell_type": "code",
   "execution_count": 19,
   "metadata": {},
   "outputs": [],
   "source": [
    "predictions_train = pd.DataFrame({'predictions_train':y_pred_train,\n",
    "                                 'actual_train': train_y,\n",
    "                                 'city': train_ts.loc[:,'mun_name'],\n",
    "                                 'date': train_ts.loc[:,'date']\n",
    "                                 })"
   ]
  },
  {
   "cell_type": "markdown",
   "metadata": {},
   "source": [
    "### Test set predictions"
   ]
  },
  {
   "cell_type": "code",
   "execution_count": 20,
   "metadata": {},
   "outputs": [],
   "source": [
    "# prediction on test set\n",
    "y_pred = clf.predict(test_x)\n"
   ]
  },
  {
   "cell_type": "code",
   "execution_count": 21,
   "metadata": {},
   "outputs": [],
   "source": [
    "# reverse normalization to return to true values\n",
    "y_pred_real = (y_pred * std['cases']) + mean['cases']"
   ]
  },
  {
   "cell_type": "code",
   "execution_count": 22,
   "metadata": {},
   "outputs": [],
   "source": [
    "# mae\n",
    "mae =  mean_absolute_error(test_y, y_pred)\n",
    "# rmse\n",
    "rmse = mean_squared_error(y_true=test_y, y_pred=y_pred, squared=False)\n",
    "\n",
    "# mae real\n",
    "mae_real =  mean_absolute_error(test_ts.loc[:,'cases'], y_pred_real)\n",
    "# rmse\n",
    "rmse_real = mean_squared_error(y_true=test_ts.loc[:,'cases'], y_pred=y_pred_real, squared=False)\n"
   ]
  },
  {
   "cell_type": "code",
   "execution_count": 23,
   "metadata": {},
   "outputs": [],
   "source": [
    "error_metrics = pd.DataFrame({'mae': mae, \n",
    "                             'rmse': rmse,\n",
    "                             'mae_real': mae_real,\n",
    "                             'rmse_real':rmse_real}, index=['errors'])"
   ]
  },
  {
   "cell_type": "code",
   "execution_count": 24,
   "metadata": {},
   "outputs": [
    {
     "data": {
      "text/html": [
       "<div>\n",
       "<style scoped>\n",
       "    .dataframe tbody tr th:only-of-type {\n",
       "        vertical-align: middle;\n",
       "    }\n",
       "\n",
       "    .dataframe tbody tr th {\n",
       "        vertical-align: top;\n",
       "    }\n",
       "\n",
       "    .dataframe thead th {\n",
       "        text-align: right;\n",
       "    }\n",
       "</style>\n",
       "<table border=\"1\" class=\"dataframe\">\n",
       "  <thead>\n",
       "    <tr style=\"text-align: right;\">\n",
       "      <th></th>\n",
       "      <th>mae</th>\n",
       "      <th>rmse</th>\n",
       "      <th>mae_real</th>\n",
       "      <th>rmse_real</th>\n",
       "    </tr>\n",
       "  </thead>\n",
       "  <tbody>\n",
       "    <tr>\n",
       "      <th>errors</th>\n",
       "      <td>0.029</td>\n",
       "      <td>0.057</td>\n",
       "      <td>58.178</td>\n",
       "      <td>113.498</td>\n",
       "    </tr>\n",
       "  </tbody>\n",
       "</table>\n",
       "</div>"
      ],
      "text/plain": [
       "          mae   rmse  mae_real  rmse_real\n",
       "errors  0.029  0.057    58.178    113.498"
      ]
     },
     "execution_count": 24,
     "metadata": {},
     "output_type": "execute_result"
    }
   ],
   "source": [
    "round(error_metrics, 3)"
   ]
  },
  {
   "cell_type": "code",
   "execution_count": 25,
   "metadata": {},
   "outputs": [],
   "source": [
    "# plots for countries\n",
    "\n",
    "pred_df = pd.DataFrame({'predictions': y_pred,\n",
    "                         'predictions_real': y_pred_real,\n",
    "                         'actual': test_y,\n",
    "                         'actual_real': test_ts.loc[:,'cases'],\n",
    "                         'city': test_ts.loc[:,'mun_name'],\n",
    "                         'date': test_ts.loc[:,'date']\n",
    "                       })"
   ]
  },
  {
   "cell_type": "markdown",
   "metadata": {},
   "source": [
    "### Sample Plots"
   ]
  },
  {
   "cell_type": "code",
   "execution_count": 26,
   "metadata": {},
   "outputs": [],
   "source": [
    "# we'll plot the real and predicted values for a single city\n",
    "city = 'Fortaleza'\n",
    "pred_city = pred_df[pred_df.city == city]\n",
    "pred_train_city = predictions_train[predictions_train.city== city]\n",
    "\n"
   ]
  },
  {
   "cell_type": "code",
   "execution_count": 27,
   "metadata": {},
   "outputs": [
    {
     "data": {
      "text/plain": [
       "Text(0.5, 1.0, 'Fortaleza')"
      ]
     },
     "execution_count": 27,
     "metadata": {},
     "output_type": "execute_result"
    },
    {
     "data": {
      "image/png": "[encoded data removed]",
      "text/plain": [
       "<Figure size 720x360 with 1 Axes>"
      ]
     },
     "metadata": {},
     "output_type": "display_data"
    }
   ],
   "source": [
    "plt.figure(figsize=(10,5))\n",
    "plt.plot(pred_city.date, pred_city.predictions, color='black')\n",
    "plt.plot(pred_city.date, pred_city.actual, color = 'green')\n",
    "plt.plot(pred_train_city.date, pred_train_city.predictions_train, color='lightgreen')\n",
    "plt.plot(pred_train_city.date, pred_train_city.actual_train, color = 'gray')\n",
    "plt.title(city)"
   ]
  },
  {
   "cell_type": "code",
   "execution_count": null,
   "metadata": {},
   "outputs": [],
   "source": []
  }
 ],
 "metadata": {
  "kernelspec": {
   "display_name": "venv",
   "language": "python",
   "name": "venv"
  },
  "language_info": {
   "codemirror_mode": {
    "name": "ipython",
    "version": 3
   },
   "file_extension": ".py",
   "mimetype": "text/x-python",
   "name": "python",
   "nbconvert_exporter": "python",
   "pygments_lexer": "ipython3",
   "version": "3.7.7"
  }
 },
 "nbformat": 4,
 "nbformat_minor": 4
}
